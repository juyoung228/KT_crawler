{
 "cells": [
  {
   "cell_type": "code",
   "execution_count": 92,
   "metadata": {
    "collapsed": false
   },
   "outputs": [],
   "source": [
    "# Naver Crawler for GIGA GINIE\n",
    "from bs4 import BeautifulSoup\n",
    "import os\n",
    "import sys\n",
    "import urllib.request\n",
    "import requests\n",
    "import json\n",
    "\n",
    "\n",
    "f = open('kt_result.txt', 'a', encoding= 'utf-8')\n",
    "\n",
    "encText = urllib.parse.quote(\"기가지니 후기\")\n",
    "url = \"https://openapi.naver.com/v1/search/blog?query=\" + encText + \"&sort=sim&display=100&start=1000\" # json 결과\n",
    "# url = \"https://openapi.naver.com/v1/search/blog.xml?query=\" + encText # xml 결과\n",
    "request = urllib.request.Request(url)\n",
    "request.add_header(\"X-Naver-Client-Id\",client_id)\n",
    "request.add_header(\"X-Naver-Client-Secret\",client_secret)\n",
    "response = urllib.request.urlopen(request)\n",
    "rescode = response.getcode()\n",
    "\n",
    "if(rescode==200):\n",
    "    response_body = response.read()\n",
    "    response_body_dict = json.loads(response_body.decode('utf-8'))\n",
    "    \n",
    "    for item in response_body_dict['items']:\n",
    "        link = item['link']\n",
    "        if link.startswith('http://blog.naver.com'):\n",
    "            \n",
    "            f.write(item['postdate'] + \"\\t\")\n",
    "            \n",
    "            get_content = requests.get(item['link'].replace('http://blog', 'http://m.blog').replace('?Redirect=Log&amp;logNo=', '/'))\n",
    "            soup =  BeautifulSoup(get_content.text, 'lxml')\n",
    "            sammies = soup.find_all(\"div\", \"post_ct\")\n",
    "            \n",
    "            for p in sammies:\n",
    "                f.write(p.text.replace('\\n', \"\").replace('\\t', \" \").replace('\\n', ' ') + \" \")\n",
    "            f.write(\"\\n\")\n",
    "    f.close()\n",
    "    \n",
    "    \n",
    "else:\n",
    "    print(\"Error Code:\" + rescode)"
   ]
  },
  {
   "cell_type": "code",
   "execution_count": null,
   "metadata": {
    "collapsed": true
   },
   "outputs": [],
   "source": []
  }
 ],
 "metadata": {
  "anaconda-cloud": {},
  "kernelspec": {
   "display_name": "Python [default]",
   "language": "python",
   "name": "python3"
  },
  "language_info": {
   "codemirror_mode": {
    "name": "ipython",
    "version": 3
   },
   "file_extension": ".py",
   "mimetype": "text/x-python",
   "name": "python",
   "nbconvert_exporter": "python",
   "pygments_lexer": "ipython3",
   "version": "3.5.2"
  }
 },
 "nbformat": 4,
 "nbformat_minor": 2
}
